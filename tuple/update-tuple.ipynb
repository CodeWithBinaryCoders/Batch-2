{
 "cells": [
  {
   "cell_type": "markdown",
   "metadata": {},
   "source": [
    "### sort"
   ]
  },
  {
   "cell_type": "code",
   "execution_count": 2,
   "metadata": {},
   "outputs": [
    {
     "name": "stdout",
     "output_type": "stream",
     "text": [
      "Before sorting: (10, 70, 90, 20)\n",
      "After sorting: (10, 20, 70, 90)\n"
     ]
    }
   ],
   "source": [
    "t = (10, 70, 90, 20)\n",
    "print(f\"Before sorting: {t}\")\n",
    "t = list(t) # convert tuple to list\n",
    "t.sort() # sort the list\n",
    "t = tuple(t) # convert list to tuple again\n",
    "print(f\"After sorting: {t}\")"
   ]
  },
  {
   "cell_type": "markdown",
   "metadata": {},
   "source": [
    "### append"
   ]
  },
  {
   "cell_type": "code",
   "execution_count": 3,
   "metadata": {},
   "outputs": [
    {
     "name": "stdout",
     "output_type": "stream",
     "text": [
      "Before appending: (10, 20, 30)\n",
      "After appending: (10, 20, 30, 40)\n"
     ]
    }
   ],
   "source": [
    "# append in tuple\n",
    "t = (10, 20, 30)\n",
    "print(f\"Before appending: {t}\")\n",
    "t = list(t) # convert tuple to list\n",
    "t.append(40) # append 40 in list\n",
    "t = tuple(t) # convert list to tuple again\n",
    "print(f\"After appending: {t}\")"
   ]
  }
 ],
 "metadata": {
  "kernelspec": {
   "display_name": "Python 3",
   "language": "python",
   "name": "python3"
  },
  "language_info": {
   "codemirror_mode": {
    "name": "ipython",
    "version": 3
   },
   "file_extension": ".py",
   "mimetype": "text/x-python",
   "name": "python",
   "nbconvert_exporter": "python",
   "pygments_lexer": "ipython3",
   "version": "3.11.5"
  }
 },
 "nbformat": 4,
 "nbformat_minor": 2
}
