{
 "cells": [
  {
   "cell_type": "code",
   "execution_count": 24,
   "metadata": {},
   "outputs": [],
   "source": [
    "d = { # dictionary created\n",
    "    'name' : 'Avik',\n",
    "    'roll' : 12,\n",
    "    'SGPA' : 9.98,\n",
    "    'is_adult' : True\n",
    "}"
   ]
  },
  {
   "cell_type": "code",
   "execution_count": 3,
   "metadata": {},
   "outputs": [
    {
     "name": "stdout",
     "output_type": "stream",
     "text": [
      "{'name': 'Avik', 'roll': 12, 'SGPA': 9.98, 'is_adult': True}\n"
     ]
    }
   ],
   "source": [
    "# display\n",
    "print(d)"
   ]
  },
  {
   "cell_type": "code",
   "execution_count": 25,
   "metadata": {},
   "outputs": [
    {
     "name": "stdout",
     "output_type": "stream",
     "text": [
      "9.98\n"
     ]
    },
    {
     "data": {
      "text/plain": [
       "12"
      ]
     },
     "execution_count": 25,
     "metadata": {},
     "output_type": "execute_result"
    }
   ],
   "source": [
    "# accessing values\n",
    "print(d['SGPA'])\n",
    "d.get('roll')"
   ]
  },
  {
   "cell_type": "code",
   "execution_count": 6,
   "metadata": {},
   "outputs": [
    {
     "data": {
      "text/plain": [
       "4"
      ]
     },
     "execution_count": 6,
     "metadata": {},
     "output_type": "execute_result"
    }
   ],
   "source": [
    "# length\n",
    "len(d) # 4 key-value pairs"
   ]
  },
  {
   "cell_type": "code",
   "execution_count": 7,
   "metadata": {},
   "outputs": [
    {
     "data": {
      "text/plain": [
       "dict"
      ]
     },
     "execution_count": 7,
     "metadata": {},
     "output_type": "execute_result"
    }
   ],
   "source": [
    "# type\n",
    "type(d) # dict"
   ]
  },
  {
   "cell_type": "code",
   "execution_count": 20,
   "metadata": {},
   "outputs": [
    {
     "name": "stdout",
     "output_type": "stream",
     "text": [
      "{'model': 'iPhone 12', 'price': 40000, 'color': ['Green', 'Blue', 'Black', 'White', 'Purple']}\n"
     ]
    },
    {
     "data": {
      "text/plain": [
       "'White'"
      ]
     },
     "execution_count": 20,
     "metadata": {},
     "output_type": "execute_result"
    }
   ],
   "source": [
    "iPhone = {\n",
    "    'model' : 'iPhone 12',\n",
    "    'price' : 40000,\n",
    "    'color' : ['Green', 'Blue', 'Black', 'White', 'Purple']\n",
    "}\n",
    "\n",
    "print(iPhone)\n",
    "iPhone['color'][3]"
   ]
  },
  {
   "cell_type": "code",
   "execution_count": 42,
   "metadata": {},
   "outputs": [
    {
     "data": {
      "text/plain": [
       "{'name': 'Avik', 'age': 21, 'surname': 'Agarwala'}"
      ]
     },
     "execution_count": 42,
     "metadata": {},
     "output_type": "execute_result"
    }
   ],
   "source": [
    "# dictionary constructor\n",
    "\n",
    "d = dict(name = \"Avik\", age = 21, surname = \"Agarwala\")\n",
    "d"
   ]
  },
  {
   "cell_type": "code",
   "execution_count": 43,
   "metadata": {},
   "outputs": [
    {
     "data": {
      "text/plain": [
       "dict_values(['Avik', 21, 'Agarwala'])"
      ]
     },
     "execution_count": 43,
     "metadata": {},
     "output_type": "execute_result"
    }
   ],
   "source": [
    "#retrieve keys\n",
    "d.keys()\n",
    "# retrieve values\n",
    "d.values()"
   ]
  },
  {
   "cell_type": "code",
   "execution_count": 39,
   "metadata": {},
   "outputs": [
    {
     "data": {
      "text/plain": [
       "{'name': 'Avik', 'roll': 12, 'SGPA': 9.98, 'is_adult': True, 'branch': 'CSE'}"
      ]
     },
     "execution_count": 39,
     "metadata": {},
     "output_type": "execute_result"
    }
   ],
   "source": [
    "d = {\n",
    "    'name' : 'Avik',\n",
    "    'roll' : 12,\n",
    "    'SGPA' : 9.98,\n",
    "    'is_adult' : True\n",
    "}\n",
    "\n",
    "# add a key-value pair\n",
    "d['branch'] = 'CSE'\n",
    "\n",
    "d"
   ]
  },
  {
   "cell_type": "code",
   "execution_count": 40,
   "metadata": {},
   "outputs": [
    {
     "data": {
      "text/plain": [
       "{'name': 'Avik', 'roll': 12, 'is_adult': True}"
      ]
     },
     "execution_count": 40,
     "metadata": {},
     "output_type": "execute_result"
    }
   ],
   "source": [
    "d = {\n",
    "    'name' : 'Avik',\n",
    "    'roll' : 12,\n",
    "    'SGPA' : 9.98,\n",
    "    'is_adult' : True\n",
    "}\n",
    "\n",
    "# remove a key-value pair\n",
    "d.pop('SGPA')\n",
    "d"
   ]
  },
  {
   "cell_type": "code",
   "execution_count": 41,
   "metadata": {},
   "outputs": [
    {
     "data": {
      "text/plain": [
       "{'name': 'Avik Agarwala', 'roll': 12, 'SGPA': 9.98, 'is_adult': True}"
      ]
     },
     "execution_count": 41,
     "metadata": {},
     "output_type": "execute_result"
    }
   ],
   "source": [
    "d = {\n",
    "    'name' : 'Avik',\n",
    "    'roll' : 12,\n",
    "    'SGPA' : 9.98,\n",
    "    'is_adult' : True\n",
    "}\n",
    "\n",
    "# update a key-value pair\n",
    "d['name'] = 'Avik Agarwala'\n",
    "d"
   ]
  },
  {
   "cell_type": "code",
   "execution_count": 47,
   "metadata": {},
   "outputs": [
    {
     "data": {
      "text/plain": [
       "{}"
      ]
     },
     "execution_count": 47,
     "metadata": {},
     "output_type": "execute_result"
    }
   ],
   "source": [
    "d = {\n",
    "    'name' : 'Avik',\n",
    "    'roll' : 12,\n",
    "    'SGPA' : 9.98,\n",
    "    'is_adult' : True\n",
    "}\n",
    "\n",
    "# clear the dictionary\n",
    "d.clear()\n",
    "d"
   ]
  },
  {
   "cell_type": "code",
   "execution_count": 49,
   "metadata": {},
   "outputs": [
    {
     "name": "stdout",
     "output_type": "stream",
     "text": [
      "True\n",
      "False\n"
     ]
    }
   ],
   "source": [
    "d = {\n",
    "    'name' : 'Avik',\n",
    "    'roll' : 12,\n",
    "    'SGPA' : 9.98,\n",
    "    'is_adult' : True\n",
    "}\n",
    "\n",
    "print('name' in d) # True\n",
    "print('surname' in d) # False"
   ]
  },
  {
   "cell_type": "code",
   "execution_count": 50,
   "metadata": {},
   "outputs": [
    {
     "name": "stdout",
     "output_type": "stream",
     "text": [
      "{'name': 'Avik Agarwala', 'roll': 12, 'SGPA': 9.98, 'is_adult': True}\n"
     ]
    }
   ],
   "source": [
    "d = {\n",
    "    'name' : 'Avik',\n",
    "    'roll' : 12,\n",
    "    'SGPA' : 9.98,\n",
    "    'is_adult' : True\n",
    "}\n",
    "\n",
    "# update value\n",
    "d.update({'name' : 'Avik Agarwala'})\n",
    "print(d)"
   ]
  },
  {
   "cell_type": "code",
   "execution_count": 52,
   "metadata": {},
   "outputs": [
    {
     "data": {
      "text/plain": [
       "{'name': 'Avik',\n",
       " 'roll': 12,\n",
       " 'SGPA': 9.98,\n",
       " 'is_adult': True,\n",
       " 'surname': 'Agarwala'}"
      ]
     },
     "execution_count": 52,
     "metadata": {},
     "output_type": "execute_result"
    }
   ],
   "source": [
    "d = {\n",
    "    'name' : 'Avik',\n",
    "    'roll' : 12,\n",
    "    'SGPA' : 9.98,\n",
    "    'is_adult' : True\n",
    "}\n",
    "\n",
    "# update value\n",
    "d.update({'surname' : 'Agarwala'})\n",
    "d"
   ]
  },
  {
   "cell_type": "code",
   "execution_count": 53,
   "metadata": {},
   "outputs": [
    {
     "data": {
      "text/plain": [
       "{'name': 'Avik',\n",
       " 'roll': 1,\n",
       " 'SGPA': 9.98,\n",
       " 'is_adult': True,\n",
       " 'surname': 'Agarwala'}"
      ]
     },
     "execution_count": 53,
     "metadata": {},
     "output_type": "execute_result"
    }
   ],
   "source": [
    "d = {\n",
    "    'name' : 'Avik',\n",
    "    'roll' : 12,\n",
    "    'SGPA' : 9.98,\n",
    "    'is_adult' : True\n",
    "}\n",
    "\n",
    "# update value\n",
    "d.update({'surname' : 'Agarwala', 'roll' : 1})\n",
    "d"
   ]
  },
  {
   "cell_type": "code",
   "execution_count": 64,
   "metadata": {},
   "outputs": [
    {
     "name": "stdout",
     "output_type": "stream",
     "text": [
      "name\n",
      "roll\n",
      "SGPA\n",
      "is_adult\n",
      "\n",
      "Avik\n",
      "12\n",
      "9.98\n",
      "True\n",
      "\n",
      "Avik\n",
      "12\n",
      "9.98\n",
      "True\n",
      "\n",
      "('name', 'Avik')\n",
      "('roll', 12)\n",
      "('SGPA', 9.98)\n",
      "('is_adult', True)\n"
     ]
    }
   ],
   "source": [
    "d = {\n",
    "    'name' : 'Avik',\n",
    "    'roll' : 12,\n",
    "    'SGPA' : 9.98,\n",
    "    'is_adult' : True\n",
    "}\n",
    "\n",
    "# loop through keys\n",
    "for i in d:\n",
    "    print(i)\n",
    "\n",
    "print()\n",
    "\n",
    "# loop through values\n",
    "for i in d.values():\n",
    "    print(i)\n",
    "\n",
    "print()\n",
    "\n",
    "# loop through values\n",
    "for i in d:\n",
    "    # print(d.get(i))\n",
    "    print(d[i])\n",
    "\n",
    "print()\n",
    "\n",
    "# loop through key-value pair\n",
    "for i in d.items():\n",
    "    print(i)\n"
   ]
  }
 ],
 "metadata": {
  "kernelspec": {
   "display_name": "Python 3",
   "language": "python",
   "name": "python3"
  },
  "language_info": {
   "codemirror_mode": {
    "name": "ipython",
    "version": 3
   },
   "file_extension": ".py",
   "mimetype": "text/x-python",
   "name": "python",
   "nbconvert_exporter": "python",
   "pygments_lexer": "ipython3",
   "version": "3.11.5"
  }
 },
 "nbformat": 4,
 "nbformat_minor": 2
}
