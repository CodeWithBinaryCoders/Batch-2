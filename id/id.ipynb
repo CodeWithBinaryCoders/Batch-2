{
 "cells": [
  {
   "cell_type": "code",
   "execution_count": 6,
   "metadata": {},
   "outputs": [
    {
     "name": "stdout",
     "output_type": "stream",
     "text": [
      "<class 'int'>\n",
      "<class 'float'>\n",
      "4364544496\n",
      "4409665968\n"
     ]
    }
   ],
   "source": [
    "x = 7\n",
    "y = 3.56\n",
    "\n",
    "print(type(x))\n",
    "print(type(y))\n",
    "\n",
    "print(id(x))\n",
    "print(id(y))"
   ]
  },
  {
   "cell_type": "code",
   "execution_count": 8,
   "metadata": {},
   "outputs": [
    {
     "name": "stdout",
     "output_type": "stream",
     "text": [
      "<class 'int'>\n",
      "<class 'int'>\n",
      "4364544464\n",
      "4364544464\n"
     ]
    }
   ],
   "source": [
    "x = 6\n",
    "y = 6\n",
    "\n",
    "print(type(x))\n",
    "print(type(y))\n",
    "\n",
    "print(id(x))\n",
    "print(id(y))"
   ]
  },
  {
   "cell_type": "code",
   "execution_count": 9,
   "metadata": {},
   "outputs": [
    {
     "name": "stdout",
     "output_type": "stream",
     "text": [
      "<class 'int'>\n",
      "<class 'int'>\n",
      "<class 'int'>\n",
      "4364544464\n",
      "4364544464\n",
      "4364544464\n"
     ]
    }
   ],
   "source": [
    "x = 6\n",
    "y = x # y = 6\n",
    "z = 6\n",
    "\n",
    "print(type(x))\n",
    "print(type(y))\n",
    "print(type(z))\n",
    "\n",
    "print(id(x))\n",
    "print(id(y))\n",
    "print(id(z))"
   ]
  },
  {
   "cell_type": "code",
   "execution_count": 11,
   "metadata": {},
   "outputs": [
    {
     "name": "stdout",
     "output_type": "stream",
     "text": [
      "4364544464\n",
      "4364544464\n",
      "4364544464\n",
      "4364544496\n"
     ]
    }
   ],
   "source": [
    "x = 6\n",
    "y = 6\n",
    "\n",
    "print(id(x))\n",
    "print(id(y))\n",
    "\n",
    "y = 7\n",
    "\n",
    "print(id(x))\n",
    "print(id(y))"
   ]
  }
 ],
 "metadata": {
  "kernelspec": {
   "display_name": "Python 3",
   "language": "python",
   "name": "python3"
  },
  "language_info": {
   "codemirror_mode": {
    "name": "ipython",
    "version": 3
   },
   "file_extension": ".py",
   "mimetype": "text/x-python",
   "name": "python",
   "nbconvert_exporter": "python",
   "pygments_lexer": "ipython3",
   "version": "3.9.6"
  }
 },
 "nbformat": 4,
 "nbformat_minor": 2
}
