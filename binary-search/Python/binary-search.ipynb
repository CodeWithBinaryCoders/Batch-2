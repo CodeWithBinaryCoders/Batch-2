{
 "cells": [
  {
   "cell_type": "markdown",
   "metadata": {},
   "source": [
    "# Iterative Approach"
   ]
  },
  {
   "cell_type": "code",
   "execution_count": 2,
   "metadata": {},
   "outputs": [],
   "source": [
    "def binary_search(l, key):\n",
    "    low = 0\n",
    "    high = len(l) - 1 # initialization\n",
    "\n",
    "    while low <= high:\n",
    "        mid = low + (high - low) // 2\n",
    "        if key == l[mid]:\n",
    "            return mid\n",
    "        if key < l[mid]:\n",
    "            high = mid - 1\n",
    "        else:\n",
    "            low = mid + 1\n",
    "\n",
    "    return -1"
   ]
  },
  {
   "cell_type": "code",
   "execution_count": 6,
   "metadata": {},
   "outputs": [
    {
     "name": "stdout",
     "output_type": "stream",
     "text": [
      "Element found at index 1\n"
     ]
    }
   ],
   "source": [
    "l = [12, 16, 27, 34, 68, 97]\n",
    "\n",
    "# l = list(map(int, input().split()))\n",
    "\n",
    "res = binary_search(l, 16)\n",
    "\n",
    "if res != -1:\n",
    "    print(f\"Element found at index {res}\")\n",
    "else:\n",
    "    print(\"Element not found\")"
   ]
  },
  {
   "cell_type": "markdown",
   "metadata": {},
   "source": [
    "# Recursive Approach"
   ]
  },
  {
   "cell_type": "code",
   "execution_count": 1,
   "metadata": {},
   "outputs": [],
   "source": [
    "def binary_search(l, low, high, key):\n",
    "\n",
    "    if low > high:\n",
    "        return -1\n",
    "    \n",
    "    mid = low + (high - low) // 2\n",
    "    if key == l[mid]:\n",
    "        return mid\n",
    "    if key < l[mid]:\n",
    "        return binary_search(l, low, mid - 1, key)\n",
    "    \n",
    "    return binary_search(l, mid + 1, high, key)"
   ]
  },
  {
   "cell_type": "code",
   "execution_count": 3,
   "metadata": {},
   "outputs": [
    {
     "name": "stdout",
     "output_type": "stream",
     "text": [
      "Element not found\n"
     ]
    }
   ],
   "source": [
    "l = [12, 16, 27, 34, 68, 97]\n",
    "\n",
    "# l = list(map(int, input().split()))\n",
    "\n",
    "res = binary_search(l, 0, len(l) - 1, 17)\n",
    "\n",
    "if res != -1:\n",
    "    print(f\"Element found at index {res}\")\n",
    "else:\n",
    "    print(\"Element not found\")"
   ]
  }
 ],
 "metadata": {
  "kernelspec": {
   "display_name": "Python 3",
   "language": "python",
   "name": "python3"
  },
  "language_info": {
   "codemirror_mode": {
    "name": "ipython",
    "version": 3
   },
   "file_extension": ".py",
   "mimetype": "text/x-python",
   "name": "python",
   "nbconvert_exporter": "python",
   "pygments_lexer": "ipython3",
   "version": "3.11.5"
  }
 },
 "nbformat": 4,
 "nbformat_minor": 2
}
