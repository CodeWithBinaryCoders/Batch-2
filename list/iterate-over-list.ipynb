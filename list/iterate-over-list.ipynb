{
 "cells": [
  {
   "cell_type": "code",
   "execution_count": 5,
   "metadata": {},
   "outputs": [
    {
     "name": "stdout",
     "output_type": "stream",
     "text": [
      "Alik Avik Puja Sayantana Bogo Keltu "
     ]
    }
   ],
   "source": [
    "# using index\n",
    "\n",
    "my_list = [\"Alik\", \"Avik\", \"Puja\", \"Sayantana\", \"Bogo\", \"Keltu\"]\n",
    "\n",
    "for i in range(len(my_list)):\n",
    "    print(my_list[i], end = \" \")"
   ]
  },
  {
   "cell_type": "code",
   "execution_count": 6,
   "metadata": {},
   "outputs": [
    {
     "name": "stdout",
     "output_type": "stream",
     "text": [
      "4 1 5 8 7 3 "
     ]
    }
   ],
   "source": [
    "nums = [4, 1, 5, 8, 7, 3]\n",
    "for i in nums:\n",
    "    print(i, end=\" \")"
   ]
  },
  {
   "cell_type": "code",
   "execution_count": 10,
   "metadata": {},
   "outputs": [
    {
     "data": {
      "text/plain": [
       "[6, 'Alik', True, 'C', 'C++', 'Ruby']"
      ]
     },
     "execution_count": 10,
     "metadata": {},
     "output_type": "execute_result"
    }
   ],
   "source": [
    "# print list element using list comprehension concept\n",
    "nums = [6, \"Alik\", True, 'C', 'C++', 'Ruby']\n",
    "\n",
    "[i for i in nums]"
   ]
  }
 ],
 "metadata": {
  "kernelspec": {
   "display_name": "Python 3",
   "language": "python",
   "name": "python3"
  },
  "language_info": {
   "codemirror_mode": {
    "name": "ipython",
    "version": 3
   },
   "file_extension": ".py",
   "mimetype": "text/x-python",
   "name": "python",
   "nbconvert_exporter": "python",
   "pygments_lexer": "ipython3",
   "version": "3.9.6"
  }
 },
 "nbformat": 4,
 "nbformat_minor": 2
}
