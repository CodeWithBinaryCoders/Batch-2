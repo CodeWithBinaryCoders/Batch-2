{
 "cells": [
  {
   "cell_type": "code",
   "execution_count": 2,
   "metadata": {},
   "outputs": [
    {
     "data": {
      "text/plain": [
       "[5, 2.3, True, 'A', None]"
      ]
     },
     "execution_count": 2,
     "metadata": {},
     "output_type": "execute_result"
    }
   ],
   "source": [
    "l = [5, 2.3, True, 'A', None]\n",
    "l # print(l)"
   ]
  },
  {
   "cell_type": "code",
   "execution_count": 5,
   "metadata": {},
   "outputs": [
    {
     "name": "stdout",
     "output_type": "stream",
     "text": [
      "Length of the list is 5\n"
     ]
    }
   ],
   "source": [
    "print(f\"Length of the list is {len(l)}\")"
   ]
  },
  {
   "cell_type": "code",
   "execution_count": 7,
   "metadata": {},
   "outputs": [
    {
     "data": {
      "text/plain": [
       "list"
      ]
     },
     "execution_count": 7,
     "metadata": {},
     "output_type": "execute_result"
    }
   ],
   "source": [
    "type(l)"
   ]
  },
  {
   "cell_type": "code",
   "execution_count": 8,
   "metadata": {},
   "outputs": [
    {
     "name": "stdout",
     "output_type": "stream",
     "text": [
      "5\n",
      "2.3\n",
      "True\n",
      "A\n",
      "None\n"
     ]
    }
   ],
   "source": [
    "print(l[0])\n",
    "print(l[1])\n",
    "print(l[2])\n",
    "print(l[3])\n",
    "print(l[4])"
   ]
  },
  {
   "cell_type": "code",
   "execution_count": 10,
   "metadata": {},
   "outputs": [
    {
     "data": {
      "text/plain": [
       "[1, 2, 10, 4, 5]"
      ]
     },
     "execution_count": 10,
     "metadata": {},
     "output_type": "execute_result"
    }
   ],
   "source": [
    "l = [1, 2, 3, 4, 5]\n",
    "l[2] = 10 # update the element at index 2 i.e. 3\n",
    "l"
   ]
  },
  {
   "cell_type": "code",
   "execution_count": 18,
   "metadata": {},
   "outputs": [
    {
     "name": "stdout",
     "output_type": "stream",
     "text": [
      "Before sorting : [23, 65, 12, 90, -2, 0, 4]\n",
      "After sorting (ascending order) : [-2, 0, 4, 12, 23, 65, 90]\n",
      "After sorting (descending order) : [90, 65, 23, 12, 4, 0, -2]\n"
     ]
    }
   ],
   "source": [
    "num = [23, 65, 12, 90, -2, 0, 4]\n",
    "\n",
    "print(f\"Before sorting : {num}\")\n",
    "\n",
    "# sort\n",
    "num.sort()\n",
    "print(f\"After sorting (ascending order) : {num}\")\n",
    "\n",
    "num.sort(reverse = True)\n",
    "print(f\"After sorting (descending order) : {num}\")"
   ]
  },
  {
   "cell_type": "code",
   "execution_count": 20,
   "metadata": {},
   "outputs": [
    {
     "name": "stdout",
     "output_type": "stream",
     "text": [
      "Before sorting : ['Rajbir', 'Avik', 'Sohini', 'Purba', 'Alik']\n",
      "After sorting (ascending order) : ['Alik', 'Avik', 'Purba', 'Rajbir', 'Sohini']\n",
      "After sorting (descending order) : ['Sohini', 'Rajbir', 'Purba', 'Avik', 'Alik']\n"
     ]
    }
   ],
   "source": [
    "names = ['Rajbir', 'Avik', 'Sohini', 'Purba', 'Alik']\n",
    "\n",
    "print(f\"Before sorting : {names}\")\n",
    "\n",
    "# sort\n",
    "names.sort()\n",
    "print(f\"After sorting (ascending order) : {names}\")\n",
    "\n",
    "names.sort(reverse = True)\n",
    "print(f\"After sorting (descending order) : {names}\")"
   ]
  },
  {
   "cell_type": "code",
   "execution_count": 22,
   "metadata": {},
   "outputs": [
    {
     "data": {
      "text/plain": [
       "[True, 4.5, 65, 2]"
      ]
     },
     "execution_count": 22,
     "metadata": {},
     "output_type": "execute_result"
    }
   ],
   "source": [
    "l = [2, 65, 4.5, True]\n",
    "\n",
    "l.reverse() # reverse the list\n",
    "\n",
    "l"
   ]
  },
  {
   "cell_type": "markdown",
   "metadata": {},
   "source": [
    "### Negative indexing"
   ]
  },
  {
   "cell_type": "code",
   "execution_count": 35,
   "metadata": {},
   "outputs": [
    {
     "name": "stdout",
     "output_type": "stream",
     "text": [
      "Alik\n",
      "Purba\n",
      "Sohini\n",
      "True\n"
     ]
    }
   ],
   "source": [
    "names = ['Rajbir', 'Avik', 'Sohini', 'Purba', 'Alik']\n",
    "\n",
    "# negative indexing\n",
    "print(names[-1]) # last element\n",
    "print(names[-2]) # 2nd last element\n",
    "print(names[-3]) # 3nd last element\n",
    "\n",
    "print(names[4] == names[-1]) # True as both are same"
   ]
  },
  {
   "cell_type": "markdown",
   "metadata": {},
   "source": [
    "### Range of indexes"
   ]
  },
  {
   "cell_type": "code",
   "execution_count": 39,
   "metadata": {},
   "outputs": [
    {
     "name": "stdout",
     "output_type": "stream",
     "text": [
      "['Sohini', 'Purba', 'Alik']\n",
      "['Sohini', 'Purba', 'Alik', 'Smriti', 'Prajakta']\n",
      "['Rajbir', 'Avik', 'Sohini', 'Purba', 'Alik']\n",
      "['Sohini', 'Purba', 'Alik', 'Smriti']\n",
      "['Sohini', 'Purba', 'Alik']\n",
      "[]\n",
      "['Sohini']\n",
      "['Smriti']\n"
     ]
    }
   ],
   "source": [
    "names = ['Rajbir', 'Avik', 'Sohini', 'Purba', 'Alik', 'Smriti', 'Prajakta']\n",
    "\n",
    "# start index 0 based, end index 1 based\n",
    "print(names[2 : 5])\n",
    "print(names[2 : ]) # from index 2 (0 based ) to the end\n",
    "print(names[ : 5]) # from starting to index 5 (1 based)\n",
    "print(names[-5 : -1])\n",
    "print(names[2 : -2])\n",
    "print(names[2 : 1]) # empty as start should stay before end\n",
    "print(names[2 : 3])\n",
    "print(names[-2 : -1])"
   ]
  }
 ],
 "metadata": {
  "kernelspec": {
   "display_name": "Python 3",
   "language": "python",
   "name": "python3"
  },
  "language_info": {
   "codemirror_mode": {
    "name": "ipython",
    "version": 3
   },
   "file_extension": ".py",
   "mimetype": "text/x-python",
   "name": "python",
   "nbconvert_exporter": "python",
   "pygments_lexer": "ipython3",
   "version": "3.11.5"
  }
 },
 "nbformat": 4,
 "nbformat_minor": 2
}
