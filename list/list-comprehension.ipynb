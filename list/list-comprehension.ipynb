{
 "cells": [
  {
   "cell_type": "code",
   "execution_count": 2,
   "metadata": {},
   "outputs": [
    {
     "data": {
      "text/plain": [
       "['Alik', 5.78, 'Perl', 'Avik', 'Nijo', True]"
      ]
     },
     "execution_count": 2,
     "metadata": {},
     "output_type": "execute_result"
    }
   ],
   "source": [
    "# copy a list using list comprehension\n",
    "\n",
    "source = [\"Alik\", 5.78, \"Perl\", \"Avik\", \"Nijo\", True]\n",
    "\n",
    "destination = []\n",
    "\n",
    "# for i in source:\n",
    "#     destination.append(i)\n",
    "\n",
    "destination = [i for i in source] # list comprehension\n",
    "destination"
   ]
  },
  {
   "cell_type": "code",
   "execution_count": 3,
   "metadata": {},
   "outputs": [
    {
     "data": {
      "text/plain": [
       "[4, 2, 8]"
      ]
     },
     "execution_count": 3,
     "metadata": {},
     "output_type": "execute_result"
    }
   ],
   "source": [
    "# print the even numbers using list comprehension\n",
    "\n",
    "nums = [1, 4, 2, 7, 9, 8]\n",
    "\n",
    "[i for i in nums if not (i % 2)]"
   ]
  }
 ],
 "metadata": {
  "kernelspec": {
   "display_name": "Python 3",
   "language": "python",
   "name": "python3"
  },
  "language_info": {
   "codemirror_mode": {
    "name": "ipython",
    "version": 3
   },
   "file_extension": ".py",
   "mimetype": "text/x-python",
   "name": "python",
   "nbconvert_exporter": "python",
   "pygments_lexer": "ipython3",
   "version": "3.9.6"
  }
 },
 "nbformat": 4,
 "nbformat_minor": 2
}
