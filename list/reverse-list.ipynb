{
 "cells": [
  {
   "cell_type": "markdown",
   "metadata": {},
   "source": [
    "### Reverse with built-in function"
   ]
  },
  {
   "cell_type": "code",
   "execution_count": 1,
   "metadata": {},
   "outputs": [
    {
     "data": {
      "text/plain": [
       "[9, 12, 6, 2]"
      ]
     },
     "execution_count": 1,
     "metadata": {},
     "output_type": "execute_result"
    }
   ],
   "source": [
    "my_list = [2, 6, 12, 9]\n",
    "my_list.reverse()\n",
    "my_list"
   ]
  },
  {
   "cell_type": "markdown",
   "metadata": {},
   "source": [
    "### Reverse without built-in function"
   ]
  },
  {
   "cell_type": "code",
   "execution_count": 2,
   "metadata": {},
   "outputs": [
    {
     "name": "stdout",
     "output_type": "stream",
     "text": [
      "[9, 12, 6, 2]\n"
     ]
    }
   ],
   "source": [
    "my_list = [2, 6, 12, 9]\n",
    "\n",
    "length = len(my_list)\n",
    "\n",
    "for i in range(length // 2): # 0 to length // 2 - 1\n",
    "    my_list[i], my_list[length - i - 1] = my_list[length - i - 1], my_list[i] # swap\n",
    "\n",
    "print(my_list)"
   ]
  },
  {
   "cell_type": "code",
   "execution_count": 3,
   "metadata": {},
   "outputs": [
    {
     "name": "stdout",
     "output_type": "stream",
     "text": [
      "[7, 9, 12, 6, 2]\n"
     ]
    }
   ],
   "source": [
    "my_list = [2, 6, 12, 9, 7]\n",
    "\n",
    "length = len(my_list)\n",
    "\n",
    "for i in range(length // 2): # 0 to length // 2 - 1\n",
    "    my_list[i], my_list[length - i - 1] = my_list[length - i - 1], my_list[i] # swap\n",
    "\n",
    "print(my_list)"
   ]
  }
 ],
 "metadata": {
  "kernelspec": {
   "display_name": "Python 3",
   "language": "python",
   "name": "python3"
  },
  "language_info": {
   "codemirror_mode": {
    "name": "ipython",
    "version": 3
   },
   "file_extension": ".py",
   "mimetype": "text/x-python",
   "name": "python",
   "nbconvert_exporter": "python",
   "pygments_lexer": "ipython3",
   "version": "3.11.5"
  }
 },
 "nbformat": 4,
 "nbformat_minor": 2
}
