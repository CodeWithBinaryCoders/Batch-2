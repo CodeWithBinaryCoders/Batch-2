{
 "cells": [
  {
   "cell_type": "markdown",
   "metadata": {},
   "source": [
    "# Function"
   ]
  },
  {
   "cell_type": "code",
   "execution_count": 1,
   "metadata": {},
   "outputs": [
    {
     "name": "stdout",
     "output_type": "stream",
     "text": [
      "Hi, there!\n",
      "Welcome to Binary Learn!\n",
      "Avik Agarwala\n",
      "Hi, there!\n",
      "Welcome to Binary Learn!\n"
     ]
    }
   ],
   "source": [
    "def say_hello(): # function definition\n",
    "    print(\"Hi, there!\")\n",
    "    print(\"Welcome to Binary Learn!\")\n",
    "\n",
    "say_hello() # function call\n",
    "print(\"Avik Agarwala\")\n",
    "say_hello() # function call"
   ]
  },
  {
   "cell_type": "markdown",
   "metadata": {},
   "source": [
    "### Arguments"
   ]
  },
  {
   "cell_type": "code",
   "execution_count": 2,
   "metadata": {},
   "outputs": [
    {
     "name": "stdout",
     "output_type": "stream",
     "text": [
      "Hi, Avik\n",
      "Hi, Madhu\n",
      "Hi, Ben Tennyson\n"
     ]
    }
   ],
   "source": [
    "def greet(name): # name is a parameter\n",
    "    print(f\"Hi, {name}\")\n",
    "\n",
    "greet('Avik') # function call\n",
    "greet('Madhu') # function call\n",
    "greet('Ben Tennyson') # function call"
   ]
  },
  {
   "cell_type": "code",
   "execution_count": 6,
   "metadata": {},
   "outputs": [
    {
     "name": "stdout",
     "output_type": "stream",
     "text": [
      "Hi, Avik 21!\n",
      "Hi, Grandpa 68!\n",
      "Hi, Ben 10!\n"
     ]
    }
   ],
   "source": [
    "def greet(name, age):\n",
    "    print(f\"Hi, {name} {age}!\")\n",
    "\n",
    "greet('Avik', 21) # function call\n",
    "greet('Grandpa', 68) # function call\n",
    "greet('Ben', 10) # function call"
   ]
  },
  {
   "cell_type": "markdown",
   "metadata": {},
   "source": [
    "### Return"
   ]
  },
  {
   "cell_type": "code",
   "execution_count": 11,
   "metadata": {},
   "outputs": [
    {
     "name": "stdout",
     "output_type": "stream",
     "text": [
      "Sum of 4 and 5 is 9\n"
     ]
    }
   ],
   "source": [
    "def sum(a, b):\n",
    "    return a + b\n",
    "\n",
    "a = int(input(\"Enter first number\"))\n",
    "b = int(input(\"Enter second number\"))\n",
    "# ans = sum(a, b)\n",
    "# print(f\"Sum of {a} and {b} is {ans}\")\n",
    "print(f\"Sum of {a} and {b} is {sum(a, b)}\")\n",
    "\n"
   ]
  },
  {
   "cell_type": "markdown",
   "metadata": {},
   "source": [
    "### Default value"
   ]
  },
  {
   "cell_type": "code",
   "execution_count": 17,
   "metadata": {},
   "outputs": [
    {
     "name": "stdout",
     "output_type": "stream",
     "text": [
      "Hello, Avik Agarwala!\n",
      "Hello, Ben Tennyson!\n"
     ]
    }
   ],
   "source": [
    "def greet(name, surname = 'Tennyson'):\n",
    "    print(f\"Hello, {name} {surname}!\")\n",
    "          \n",
    "greet('Avik', 'Agarwala')\n",
    "greet('Ben')"
   ]
  },
  {
   "cell_type": "markdown",
   "metadata": {},
   "source": [
    "### Arbitraty Arguments"
   ]
  },
  {
   "cell_type": "code",
   "execution_count": 18,
   "metadata": {},
   "outputs": [
    {
     "name": "stdout",
     "output_type": "stream",
     "text": [
      "I know the below languages :\n",
      "('C', 'C++', 'Python')\n",
      "I know the below languages :\n",
      "('C', 'Java')\n",
      "I know the below languages :\n",
      "('C', 'C++', 'Java', 'Python', 'Kotlin', 'C#')\n"
     ]
    }
   ],
   "source": [
    "def known_languages(*langs): # arbitrary arguments\n",
    "    print(\"I know the below languages :\")\n",
    "    print(langs) # tuple\n",
    "\n",
    "known_languages('C', 'C++', 'Python')\n",
    "known_languages('C', 'Java')\n",
    "known_languages('C', 'C++', 'Java', 'Python', 'Kotlin', 'C#')"
   ]
  },
  {
   "cell_type": "markdown",
   "metadata": {},
   "source": [
    "### Keyword Arguments"
   ]
  },
  {
   "cell_type": "code",
   "execution_count": 22,
   "metadata": {},
   "outputs": [
    {
     "name": "stdout",
     "output_type": "stream",
     "text": [
      "Prantika is younger than Prajakta.\n"
     ]
    }
   ],
   "source": [
    "def twins(elder, younger):\n",
    "    print(f\"{younger} is younger than {elder}.\")\n",
    "\n",
    "twins(younger= 'Prantika', elder = 'Prajakta') # function call"
   ]
  },
  {
   "cell_type": "markdown",
   "metadata": {},
   "source": [
    "### Arbitrary Keyword Arguments"
   ]
  },
  {
   "cell_type": "code",
   "execution_count": 24,
   "metadata": {},
   "outputs": [
    {
     "name": "stdout",
     "output_type": "stream",
     "text": [
      "First name is Avik, Last name is Agarwala\n",
      "First name is Sudhir, Last name is Samanta\n"
     ]
    }
   ],
   "source": [
    "def person(**name):\n",
    "    print(f\"First name is {name['f_name']}, Last name is {name['l_name']}\")\n",
    "\n",
    "person(f_name = 'Avik', l_name = 'Agarwala')\n",
    "person(l_name = 'Samanta', f_name = 'Sudhir')"
   ]
  },
  {
   "cell_type": "markdown",
   "metadata": {},
   "source": [
    "### pass statement"
   ]
  },
  {
   "cell_type": "code",
   "execution_count": 5,
   "metadata": {},
   "outputs": [
    {
     "name": "stdout",
     "output_type": "stream",
     "text": [
      "Hello\n"
     ]
    }
   ],
   "source": [
    "def func():\n",
    "    pass # I will implement the function later\n",
    "\n",
    "\n",
    "func() # call the function\n",
    "print(\"Hello\")"
   ]
  },
  {
   "cell_type": "markdown",
   "metadata": {},
   "source": [
    "### positional arguments only"
   ]
  },
  {
   "cell_type": "code",
   "execution_count": 13,
   "metadata": {},
   "outputs": [
    {
     "name": "stdout",
     "output_type": "stream",
     "text": [
      "Prajakta is elder than Prantika.\n"
     ]
    }
   ],
   "source": [
    "def twins(elder, younger, /):\n",
    "    print(f\"{elder} is elder than {younger}.\")\n",
    "\n",
    "twins(\"Prajakta\", \"Prantika\")"
   ]
  },
  {
   "cell_type": "code",
   "execution_count": 15,
   "metadata": {},
   "outputs": [
    {
     "ename": "TypeError",
     "evalue": "twins() got some positional-only arguments passed as keyword arguments: 'elder, younger'",
     "output_type": "error",
     "traceback": [
      "\u001b[0;31m---------------------------------------------------------------------------\u001b[0m",
      "\u001b[0;31mTypeError\u001b[0m                                 Traceback (most recent call last)",
      "Cell \u001b[0;32mIn[15], line 4\u001b[0m\n\u001b[1;32m      1\u001b[0m \u001b[38;5;28;01mdef\u001b[39;00m \u001b[38;5;21mtwins\u001b[39m(elder, younger, \u001b[38;5;241m/\u001b[39m):\n\u001b[1;32m      2\u001b[0m     \u001b[38;5;28mprint\u001b[39m(\u001b[38;5;124mf\u001b[39m\u001b[38;5;124m\"\u001b[39m\u001b[38;5;132;01m{\u001b[39;00melder\u001b[38;5;132;01m}\u001b[39;00m\u001b[38;5;124m is elder than \u001b[39m\u001b[38;5;132;01m{\u001b[39;00myounger\u001b[38;5;132;01m}\u001b[39;00m\u001b[38;5;124m.\u001b[39m\u001b[38;5;124m\"\u001b[39m)\n\u001b[0;32m----> 4\u001b[0m \u001b[43mtwins\u001b[49m\u001b[43m(\u001b[49m\u001b[43melder\u001b[49m\u001b[43m \u001b[49m\u001b[38;5;241;43m=\u001b[39;49m\u001b[43m \u001b[49m\u001b[38;5;124;43m\"\u001b[39;49m\u001b[38;5;124;43mPrajakta\u001b[39;49m\u001b[38;5;124;43m\"\u001b[39;49m\u001b[43m,\u001b[49m\u001b[43m \u001b[49m\u001b[43myounger\u001b[49m\u001b[38;5;241;43m=\u001b[39;49m\u001b[43m \u001b[49m\u001b[38;5;124;43m\"\u001b[39;49m\u001b[38;5;124;43mPrantika\u001b[39;49m\u001b[38;5;124;43m\"\u001b[39;49m\u001b[43m)\u001b[49m\n",
      "\u001b[0;31mTypeError\u001b[0m: twins() got some positional-only arguments passed as keyword arguments: 'elder, younger'"
     ]
    }
   ],
   "source": [
    "def twins(elder, younger, /):\n",
    "    print(f\"{elder} is elder than {younger}.\")\n",
    "\n",
    "twins(elder = \"Prajakta\", younger= \"Prantika\")"
   ]
  },
  {
   "cell_type": "markdown",
   "metadata": {},
   "source": [
    "### keyword arguments only"
   ]
  },
  {
   "cell_type": "code",
   "execution_count": 14,
   "metadata": {},
   "outputs": [
    {
     "name": "stdout",
     "output_type": "stream",
     "text": [
      "Prajakta is elder than Prantika.\n"
     ]
    }
   ],
   "source": [
    "def twins(*, elder, younger):\n",
    "    print(f\"{elder} is elder than {younger}.\")\n",
    "\n",
    "twins(younger='Prantika', elder = \"Prajakta\")"
   ]
  },
  {
   "cell_type": "code",
   "execution_count": 16,
   "metadata": {},
   "outputs": [
    {
     "ename": "TypeError",
     "evalue": "twins() takes 0 positional arguments but 2 were given",
     "output_type": "error",
     "traceback": [
      "\u001b[0;31m---------------------------------------------------------------------------\u001b[0m",
      "\u001b[0;31mTypeError\u001b[0m                                 Traceback (most recent call last)",
      "Cell \u001b[0;32mIn[16], line 4\u001b[0m\n\u001b[1;32m      1\u001b[0m \u001b[38;5;28;01mdef\u001b[39;00m \u001b[38;5;21mtwins\u001b[39m(\u001b[38;5;241m*\u001b[39m, elder, younger):\n\u001b[1;32m      2\u001b[0m     \u001b[38;5;28mprint\u001b[39m(\u001b[38;5;124mf\u001b[39m\u001b[38;5;124m\"\u001b[39m\u001b[38;5;132;01m{\u001b[39;00melder\u001b[38;5;132;01m}\u001b[39;00m\u001b[38;5;124m is elder than \u001b[39m\u001b[38;5;132;01m{\u001b[39;00myounger\u001b[38;5;132;01m}\u001b[39;00m\u001b[38;5;124m.\u001b[39m\u001b[38;5;124m\"\u001b[39m)\n\u001b[0;32m----> 4\u001b[0m \u001b[43mtwins\u001b[49m\u001b[43m(\u001b[49m\u001b[38;5;124;43m'\u001b[39;49m\u001b[38;5;124;43mPrajakta\u001b[39;49m\u001b[38;5;124;43m'\u001b[39;49m\u001b[43m,\u001b[49m\u001b[43m \u001b[49m\u001b[38;5;124;43m'\u001b[39;49m\u001b[38;5;124;43mPrantika\u001b[39;49m\u001b[38;5;124;43m'\u001b[39;49m\u001b[43m)\u001b[49m\n",
      "\u001b[0;31mTypeError\u001b[0m: twins() takes 0 positional arguments but 2 were given"
     ]
    }
   ],
   "source": [
    "def twins(*, elder, younger):\n",
    "    print(f\"{elder} is elder than {younger}.\")\n",
    "\n",
    "twins('Prajakta', 'Prantika')"
   ]
  },
  {
   "cell_type": "markdown",
   "metadata": {},
   "source": [
    "### combining positional only and keyword only"
   ]
  },
  {
   "cell_type": "code",
   "execution_count": 17,
   "metadata": {},
   "outputs": [
    {
     "name": "stdout",
     "output_type": "stream",
     "text": [
      "a = 1, b = 2, c = 3, d = 4\n"
     ]
    }
   ],
   "source": [
    "def func(a, b, /, *, c, d):\n",
    "    print(f\"a = {a}, b = {b}, c = {c}, d = {d}\")\n",
    "\n",
    "func(1, 2, d = 4, c = 3)\n"
   ]
  }
 ],
 "metadata": {
  "kernelspec": {
   "display_name": "Python 3",
   "language": "python",
   "name": "python3"
  },
  "language_info": {
   "codemirror_mode": {
    "name": "ipython",
    "version": 3
   },
   "file_extension": ".py",
   "mimetype": "text/x-python",
   "name": "python",
   "nbconvert_exporter": "python",
   "pygments_lexer": "ipython3",
   "version": "3.11.5"
  }
 },
 "nbformat": 4,
 "nbformat_minor": 2
}
