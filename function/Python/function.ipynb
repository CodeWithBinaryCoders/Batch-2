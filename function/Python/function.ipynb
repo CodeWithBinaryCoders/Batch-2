{
 "cells": [
  {
   "cell_type": "markdown",
   "metadata": {},
   "source": [
    "# Function"
   ]
  },
  {
   "cell_type": "code",
   "execution_count": 1,
   "metadata": {},
   "outputs": [
    {
     "name": "stdout",
     "output_type": "stream",
     "text": [
      "Hi, there!\n",
      "Welcome to Binary Learn!\n",
      "Avik Agarwala\n",
      "Hi, there!\n",
      "Welcome to Binary Learn!\n"
     ]
    }
   ],
   "source": [
    "def say_hello(): # function definition\n",
    "    print(\"Hi, there!\")\n",
    "    print(\"Welcome to Binary Learn!\")\n",
    "\n",
    "say_hello() # function call\n",
    "print(\"Avik Agarwala\")\n",
    "say_hello() # function call"
   ]
  },
  {
   "cell_type": "markdown",
   "metadata": {},
   "source": [
    "### Arguments"
   ]
  },
  {
   "cell_type": "code",
   "execution_count": 2,
   "metadata": {},
   "outputs": [
    {
     "name": "stdout",
     "output_type": "stream",
     "text": [
      "Hi, Avik\n",
      "Hi, Madhu\n",
      "Hi, Ben Tennyson\n"
     ]
    }
   ],
   "source": [
    "def greet(name): # name is a parameter\n",
    "    print(f\"Hi, {name}\")\n",
    "\n",
    "greet('Avik') # function call\n",
    "greet('Madhu') # function call\n",
    "greet('Ben Tennyson') # function call"
   ]
  },
  {
   "cell_type": "code",
   "execution_count": 6,
   "metadata": {},
   "outputs": [
    {
     "name": "stdout",
     "output_type": "stream",
     "text": [
      "Hi, Avik 21!\n",
      "Hi, Grandpa 68!\n",
      "Hi, Ben 10!\n"
     ]
    }
   ],
   "source": [
    "def greet(name, age):\n",
    "    print(f\"Hi, {name} {age}!\")\n",
    "\n",
    "greet('Avik', 21) # function call\n",
    "greet('Grandpa', 68) # function call\n",
    "greet('Ben', 10) # function call"
   ]
  },
  {
   "cell_type": "markdown",
   "metadata": {},
   "source": [
    "### Return"
   ]
  },
  {
   "cell_type": "code",
   "execution_count": 11,
   "metadata": {},
   "outputs": [
    {
     "name": "stdout",
     "output_type": "stream",
     "text": [
      "Sum of 4 and 5 is 9\n"
     ]
    }
   ],
   "source": [
    "def sum(a, b):\n",
    "    return a + b\n",
    "\n",
    "a = int(input(\"Enter first number\"))\n",
    "b = int(input(\"Enter second number\"))\n",
    "# ans = sum(a, b)\n",
    "# print(f\"Sum of {a} and {b} is {ans}\")\n",
    "print(f\"Sum of {a} and {b} is {sum(a, b)}\")\n",
    "\n"
   ]
  },
  {
   "cell_type": "markdown",
   "metadata": {},
   "source": [
    "### Default value"
   ]
  },
  {
   "cell_type": "code",
   "execution_count": 17,
   "metadata": {},
   "outputs": [
    {
     "name": "stdout",
     "output_type": "stream",
     "text": [
      "Hello, Avik Agarwala!\n",
      "Hello, Ben Tennyson!\n"
     ]
    }
   ],
   "source": [
    "def greet(name, surname = 'Tennyson'):\n",
    "    print(f\"Hello, {name} {surname}!\")\n",
    "          \n",
    "greet('Avik', 'Agarwala')\n",
    "greet('Ben')"
   ]
  },
  {
   "cell_type": "markdown",
   "metadata": {},
   "source": [
    "### Arbitraty Arguments"
   ]
  },
  {
   "cell_type": "code",
   "execution_count": 18,
   "metadata": {},
   "outputs": [
    {
     "name": "stdout",
     "output_type": "stream",
     "text": [
      "I know the below languages :\n",
      "('C', 'C++', 'Python')\n",
      "I know the below languages :\n",
      "('C', 'Java')\n",
      "I know the below languages :\n",
      "('C', 'C++', 'Java', 'Python', 'Kotlin', 'C#')\n"
     ]
    }
   ],
   "source": [
    "def known_languages(*langs): # arbitrary arguments\n",
    "    print(\"I know the below languages :\")\n",
    "    print(langs) # tuple\n",
    "\n",
    "known_languages('C', 'C++', 'Python')\n",
    "known_languages('C', 'Java')\n",
    "known_languages('C', 'C++', 'Java', 'Python', 'Kotlin', 'C#')"
   ]
  },
  {
   "cell_type": "markdown",
   "metadata": {},
   "source": [
    "### Keyword Arguments"
   ]
  },
  {
   "cell_type": "code",
   "execution_count": 22,
   "metadata": {},
   "outputs": [
    {
     "name": "stdout",
     "output_type": "stream",
     "text": [
      "Prantika is younger than Prajakta.\n"
     ]
    }
   ],
   "source": [
    "def twins(elder, younger):\n",
    "    print(f\"{younger} is younger than {elder}.\")\n",
    "\n",
    "twins(younger= 'Prantika', elder = 'Prajakta') # function call"
   ]
  },
  {
   "cell_type": "markdown",
   "metadata": {},
   "source": [
    "### Arbitrary Keyword Arguments"
   ]
  },
  {
   "cell_type": "code",
   "execution_count": 24,
   "metadata": {},
   "outputs": [
    {
     "name": "stdout",
     "output_type": "stream",
     "text": [
      "First name is Avik, Last name is Agarwala\n",
      "First name is Sudhir, Last name is Samanta\n"
     ]
    }
   ],
   "source": [
    "def person(**name):\n",
    "    print(f\"First name is {name['f_name']}, Last name is {name['l_name']}\")\n",
    "\n",
    "person(f_name = 'Avik', l_name = 'Agarwala')\n",
    "person(l_name = 'Samanta', f_name = 'Sudhir')"
   ]
  }
 ],
 "metadata": {
  "kernelspec": {
   "display_name": "Python 3",
   "language": "python",
   "name": "python3"
  },
  "language_info": {
   "codemirror_mode": {
    "name": "ipython",
    "version": 3
   },
   "file_extension": ".py",
   "mimetype": "text/x-python",
   "name": "python",
   "nbconvert_exporter": "python",
   "pygments_lexer": "ipython3",
   "version": "3.11.5"
  }
 },
 "nbformat": 4,
 "nbformat_minor": 2
}
