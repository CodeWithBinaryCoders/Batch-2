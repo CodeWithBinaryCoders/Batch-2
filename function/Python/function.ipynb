{
 "cells": [
  {
   "cell_type": "markdown",
   "metadata": {},
   "source": [
    "# Function"
   ]
  },
  {
   "cell_type": "code",
   "execution_count": 1,
   "metadata": {},
   "outputs": [
    {
     "name": "stdout",
     "output_type": "stream",
     "text": [
      "Hi, there!\n",
      "Welcome to Binary Learn!\n",
      "Avik Agarwala\n",
      "Hi, there!\n",
      "Welcome to Binary Learn!\n"
     ]
    }
   ],
   "source": [
    "def say_hello(): # function definition\n",
    "    print(\"Hi, there!\")\n",
    "    print(\"Welcome to Binary Learn!\")\n",
    "\n",
    "say_hello() # function call\n",
    "print(\"Avik Agarwala\")\n",
    "say_hello() # function call"
   ]
  },
  {
   "cell_type": "markdown",
   "metadata": {},
   "source": [
    "### Arguments"
   ]
  },
  {
   "cell_type": "code",
   "execution_count": 2,
   "metadata": {},
   "outputs": [
    {
     "name": "stdout",
     "output_type": "stream",
     "text": [
      "Hi, Avik\n",
      "Hi, Madhu\n",
      "Hi, Ben Tennyson\n"
     ]
    }
   ],
   "source": [
    "def greet(name): # name is a parameter\n",
    "    print(f\"Hi, {name}\")\n",
    "\n",
    "greet('Avik') # function call\n",
    "greet('Madhu') # function call\n",
    "greet('Ben Tennyson') # function call"
   ]
  },
  {
   "cell_type": "code",
   "execution_count": 6,
   "metadata": {},
   "outputs": [
    {
     "name": "stdout",
     "output_type": "stream",
     "text": [
      "Hi, Avik 21!\n",
      "Hi, Grandpa 68!\n",
      "Hi, Ben 10!\n"
     ]
    }
   ],
   "source": [
    "def greet(name, age):\n",
    "    print(f\"Hi, {name} {age}!\")\n",
    "\n",
    "greet('Avik', 21) # function call\n",
    "greet('Grandpa', 68) # function call\n",
    "greet('Ben', 10) # function call"
   ]
  },
  {
   "cell_type": "markdown",
   "metadata": {},
   "source": [
    "### Return"
   ]
  },
  {
   "cell_type": "code",
   "execution_count": 11,
   "metadata": {},
   "outputs": [
    {
     "name": "stdout",
     "output_type": "stream",
     "text": [
      "Sum of 4 and 5 is 9\n"
     ]
    }
   ],
   "source": [
    "def sum(a, b):\n",
    "    return a + b\n",
    "\n",
    "a = int(input(\"Enter first number\"))\n",
    "b = int(input(\"Enter second number\"))\n",
    "# ans = sum(a, b)\n",
    "# print(f\"Sum of {a} and {b} is {ans}\")\n",
    "print(f\"Sum of {a} and {b} is {sum(a, b)}\")\n",
    "\n"
   ]
  },
  {
   "cell_type": "markdown",
   "metadata": {},
   "source": [
    "### Default value"
   ]
  },
  {
   "cell_type": "code",
   "execution_count": 17,
   "metadata": {},
   "outputs": [
    {
     "name": "stdout",
     "output_type": "stream",
     "text": [
      "Hello, Avik Agarwala!\n",
      "Hello, Ben Tennyson!\n"
     ]
    }
   ],
   "source": [
    "def greet(name, surname = 'Tennyson'):\n",
    "    print(f\"Hello, {name} {surname}!\")\n",
    "          \n",
    "greet('Avik', 'Agarwala')\n",
    "greet('Ben')"
   ]
  }
 ],
 "metadata": {
  "kernelspec": {
   "display_name": "Python 3",
   "language": "python",
   "name": "python3"
  },
  "language_info": {
   "codemirror_mode": {
    "name": "ipython",
    "version": 3
   },
   "file_extension": ".py",
   "mimetype": "text/x-python",
   "name": "python",
   "nbconvert_exporter": "python",
   "pygments_lexer": "ipython3",
   "version": "3.11.5"
  }
 },
 "nbformat": 4,
 "nbformat_minor": 2
}
