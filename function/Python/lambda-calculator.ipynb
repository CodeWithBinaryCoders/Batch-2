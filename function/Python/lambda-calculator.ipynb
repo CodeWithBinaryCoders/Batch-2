{
 "cells": [
  {
   "cell_type": "code",
   "execution_count": 1,
   "metadata": {},
   "outputs": [],
   "source": [
    "sum = lambda a, b : a + b"
   ]
  },
  {
   "cell_type": "code",
   "execution_count": 2,
   "metadata": {},
   "outputs": [],
   "source": [
    "sub = lambda a, b : a - b"
   ]
  },
  {
   "cell_type": "code",
   "execution_count": 3,
   "metadata": {},
   "outputs": [],
   "source": [
    "mul = lambda a, b : a * b"
   ]
  },
  {
   "cell_type": "code",
   "execution_count": 4,
   "metadata": {},
   "outputs": [],
   "source": [
    "div = lambda a, b : a / b"
   ]
  },
  {
   "cell_type": "code",
   "execution_count": 5,
   "metadata": {},
   "outputs": [],
   "source": [
    "exp = lambda a, b : a ** b"
   ]
  },
  {
   "cell_type": "code",
   "execution_count": 6,
   "metadata": {},
   "outputs": [],
   "source": [
    "floor = lambda a, b : a // b"
   ]
  },
  {
   "cell_type": "code",
   "execution_count": 7,
   "metadata": {},
   "outputs": [
    {
     "name": "stdout",
     "output_type": "stream",
     "text": [
      "Sum of 5 and 2 is 7\n",
      "Diff of 5 and 2 is 3\n",
      "Mul of 5 and 2 is 10\n",
      "Div of 5 and 2 is 2.5\n",
      "Exp of 5 and 2 is 25\n",
      "Floor div of 5 and 2 is 2\n"
     ]
    }
   ],
   "source": [
    "a = 5\n",
    "b = 2\n",
    "\n",
    "print(f\"Sum of {a} and {b} is {sum(a, b)}\")\n",
    "print(f\"Diff of {a} and {b} is {sub(a, b)}\")\n",
    "print(f\"Mul of {a} and {b} is {mul(a, b)}\")\n",
    "print(f\"Div of {a} and {b} is {div(a, b)}\")\n",
    "print(f\"Exp of {a} and {b} is {exp(a, b)}\")\n",
    "print(f\"Floor div of {a} and {b} is {floor(a, b)}\")"
   ]
  }
 ],
 "metadata": {
  "kernelspec": {
   "display_name": "Python 3",
   "language": "python",
   "name": "python3"
  },
  "language_info": {
   "codemirror_mode": {
    "name": "ipython",
    "version": 3
   },
   "file_extension": ".py",
   "mimetype": "text/x-python",
   "name": "python",
   "nbconvert_exporter": "python",
   "pygments_lexer": "ipython3",
   "version": "3.11.5"
  }
 },
 "nbformat": 4,
 "nbformat_minor": 2
}
