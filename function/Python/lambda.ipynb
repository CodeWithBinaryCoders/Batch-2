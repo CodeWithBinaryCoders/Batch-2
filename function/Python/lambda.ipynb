{
 "cells": [
  {
   "cell_type": "markdown",
   "metadata": {},
   "source": [
    "### Function"
   ]
  },
  {
   "cell_type": "code",
   "execution_count": 2,
   "metadata": {},
   "outputs": [
    {
     "name": "stdout",
     "output_type": "stream",
     "text": [
      "Sum is 4\n"
     ]
    }
   ],
   "source": [
    "def sum(a, b):\n",
    "    return a + b\n",
    "\n",
    "print(f\"Sum is {sum(1, 3)}\")"
   ]
  },
  {
   "cell_type": "code",
   "execution_count": 5,
   "metadata": {},
   "outputs": [
    {
     "name": "stdout",
     "output_type": "stream",
     "text": [
      "Sum of 2 and 3 is 5\n"
     ]
    }
   ],
   "source": [
    "# function_name = lambda arguments : expression\n",
    "\n",
    "sum = lambda x, y : x + y\n",
    "\n",
    "a = 2\n",
    "b = 3\n",
    "\n",
    "print(f\"Sum of {a} and {b} is {sum(a, b)}\")"
   ]
  },
  {
   "cell_type": "markdown",
   "metadata": {},
   "source": [
    "### problems"
   ]
  },
  {
   "cell_type": "code",
   "execution_count": 4,
   "metadata": {},
   "outputs": [
    {
     "name": "stdout",
     "output_type": "stream",
     "text": [
      "4\n",
      "9\n",
      "16\n",
      "25\n"
     ]
    }
   ],
   "source": [
    "def func(n):\n",
    "    return lambda x : x ** n\n",
    "\n",
    "f = func(2)\n",
    "\n",
    "print(f(2))\n",
    "print(f(3))\n",
    "print(f(4))\n",
    "print(f(5))"
   ]
  },
  {
   "cell_type": "code",
   "execution_count": 6,
   "metadata": {},
   "outputs": [
    {
     "name": "stdout",
     "output_type": "stream",
     "text": [
      "25\n",
      "729\n"
     ]
    }
   ],
   "source": [
    "def exp(n):\n",
    "    return lambda x : x ** n\n",
    "\n",
    "square = exp(2)\n",
    "cube = exp(3)\n",
    "\n",
    "print(square(5))\n",
    "print(cube(9))"
   ]
  },
  {
   "cell_type": "code",
   "execution_count": 7,
   "metadata": {},
   "outputs": [
    {
     "name": "stdout",
     "output_type": "stream",
     "text": [
      "25\n",
      "729\n"
     ]
    }
   ],
   "source": [
    "exp = lambda n : lambda x : x ** n\n",
    "\n",
    "square = exp(2)\n",
    "cube = exp(3)\n",
    "\n",
    "print(square(5))\n",
    "print(cube(9))"
   ]
  }
 ],
 "metadata": {
  "kernelspec": {
   "display_name": "Python 3",
   "language": "python",
   "name": "python3"
  },
  "language_info": {
   "codemirror_mode": {
    "name": "ipython",
    "version": 3
   },
   "file_extension": ".py",
   "mimetype": "text/x-python",
   "name": "python",
   "nbconvert_exporter": "python",
   "pygments_lexer": "ipython3",
   "version": "3.11.5"
  }
 },
 "nbformat": 4,
 "nbformat_minor": 2
}
