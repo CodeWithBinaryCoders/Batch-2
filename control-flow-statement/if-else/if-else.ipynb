{
 "cells": [
  {
   "cell_type": "markdown",
   "metadata": {},
   "source": [
    "## else part is optional"
   ]
  },
  {
   "cell_type": "code",
   "execution_count": 4,
   "metadata": {},
   "outputs": [
    {
     "name": "stdout",
     "output_type": "stream",
     "text": [
      "Value of x is 5\n",
      "Hello\n"
     ]
    }
   ],
   "source": [
    "x = 5\n",
    "\n",
    "if (x == 5):\n",
    "    print(f\"Value of x is {x}\") # inside if block\n",
    "    print(\"Hello\") # inside if block"
   ]
  },
  {
   "cell_type": "code",
   "execution_count": 2,
   "metadata": {},
   "outputs": [
    {
     "name": "stdout",
     "output_type": "stream",
     "text": [
      "Hello\n"
     ]
    }
   ],
   "source": [
    "x = 5\n",
    "if (x == 6): # false\n",
    "    print(f\"Value of x is {x}\") # inside if block\n",
    "\n",
    "print(\"Hello\") # outside if block"
   ]
  },
  {
   "cell_type": "markdown",
   "metadata": {},
   "source": [
    "## after if keyword, parenthesis are optional in python"
   ]
  },
  {
   "cell_type": "code",
   "execution_count": 7,
   "metadata": {},
   "outputs": [
    {
     "name": "stdout",
     "output_type": "stream",
     "text": [
      "Hello\n"
     ]
    }
   ],
   "source": [
    "x = 5\n",
    "\n",
    "if x == 6:\n",
    "    print(f\"Value of x is {x}\")\n",
    "print(\"Hello\")"
   ]
  },
  {
   "cell_type": "markdown",
   "metadata": {},
   "source": [
    "## else"
   ]
  },
  {
   "cell_type": "code",
   "execution_count": 21,
   "metadata": {},
   "outputs": [
    {
     "name": "stdout",
     "output_type": "stream",
     "text": [
      "Bye\n"
     ]
    }
   ],
   "source": [
    "x = int(input(\"Enter a number: \"))\n",
    "\n",
    "if x < 5:\n",
    "    print(\"Hello\")\n",
    "else:\n",
    "    print(\"Bye\")"
   ]
  },
  {
   "cell_type": "markdown",
   "metadata": {},
   "source": [
    "## Nested if-else"
   ]
  },
  {
   "cell_type": "code",
   "execution_count": 9,
   "metadata": {},
   "outputs": [
    {
     "name": "stdout",
     "output_type": "stream",
     "text": [
      "Watch movie.\n"
     ]
    }
   ],
   "source": [
    "is_raining, have_umbrella, friends_coming = False, True, False\n",
    "\n",
    "if is_raining is True: # you can also use == operator\n",
    "    if have_umbrella is True:\n",
    "        print(\"Go to school.\")\n",
    "    else:\n",
    "        print(\"Buy umbrella.\")\n",
    "        print(\"Pay the bill.\")\n",
    "else:\n",
    "    if friends_coming == True:\n",
    "        print(\"Bunk school.\")\n",
    "    else:\n",
    "        print(\"Watch movie.\")"
   ]
  },
  {
   "cell_type": "markdown",
   "metadata": {},
   "source": [
    "### Using logical operators"
   ]
  },
  {
   "cell_type": "code",
   "execution_count": 22,
   "metadata": {},
   "outputs": [
    {
     "name": "stdout",
     "output_type": "stream",
     "text": [
      "Watch movie.\n"
     ]
    }
   ],
   "source": [
    "is_raining, have_umbrella, friends_coming = False, True, False\n",
    "\n",
    "if is_raining == True and have_umbrella == True:\n",
    "    print(\"Go to school.\")\n",
    "elif is_raining == True and have_umbrella == False:\n",
    "    print(\"Buy umbrella.\")\n",
    "    print(\"Pay the bill.\")\n",
    "elif is_raining == False and friends_coming == True:\n",
    "    print(\"Bunk school.\")\n",
    "else:\n",
    "    print(\"Watch movie.\")"
   ]
  },
  {
   "cell_type": "markdown",
   "metadata": {},
   "source": [
    "## elif\n",
    "### (else-if ladder)"
   ]
  },
  {
   "cell_type": "code",
   "execution_count": 12,
   "metadata": {},
   "outputs": [
    {
     "name": "stdout",
     "output_type": "stream",
     "text": [
      "Go to KFC.\n"
     ]
    }
   ],
   "source": [
    "budget = 55000\n",
    "\n",
    "if budget >= 90000:\n",
    "    print(\"Go to ITC Royal Bengal.\")\n",
    "elif budget >= 70000:\n",
    "    print(\"Go to ITC SONAR.\")\n",
    "elif budget >= 40000:\n",
    "    print(\"Go to KFC.\")\n",
    "else:\n",
    "    print(\"Go and earn some money.\")"
   ]
  },
  {
   "cell_type": "markdown",
   "metadata": {},
   "source": [
    "## Short hand"
   ]
  },
  {
   "cell_type": "code",
   "execution_count": 13,
   "metadata": {},
   "outputs": [
    {
     "name": "stdout",
     "output_type": "stream",
     "text": [
      "Hello\n"
     ]
    }
   ],
   "source": [
    "if 1: # True\n",
    "    print(\"Hello\")\n",
    "else:\n",
    "    print(\"Bye\")"
   ]
  },
  {
   "cell_type": "code",
   "execution_count": 14,
   "metadata": {},
   "outputs": [
    {
     "name": "stdout",
     "output_type": "stream",
     "text": [
      "Bye\n"
     ]
    }
   ],
   "source": [
    "if 0: # False\n",
    "    print(\"Hello\")\n",
    "else:\n",
    "    print(\"Bye\")"
   ]
  },
  {
   "cell_type": "code",
   "execution_count": 15,
   "metadata": {},
   "outputs": [
    {
     "name": "stdout",
     "output_type": "stream",
     "text": [
      "Hello\n"
     ]
    }
   ],
   "source": [
    "if -407: # True\n",
    "    print(\"Hello\")\n",
    "else:\n",
    "    print(\"Bye\")"
   ]
  },
  {
   "cell_type": "code",
   "execution_count": 17,
   "metadata": {},
   "outputs": [
    {
     "name": "stdout",
     "output_type": "stream",
     "text": [
      "Non zero\n"
     ]
    }
   ],
   "source": [
    "val = int(input(\"Enter a number: \")) # 10\n",
    "\n",
    "if val: # check for non zero, if val != 0\n",
    "    print(\"Non zero\")\n",
    "else:\n",
    "    print(\"Zero\")"
   ]
  },
  {
   "cell_type": "code",
   "execution_count": 18,
   "metadata": {},
   "outputs": [
    {
     "name": "stdout",
     "output_type": "stream",
     "text": [
      "Discard\n"
     ]
    }
   ],
   "source": [
    "check = False\n",
    "\n",
    "if check: # if check == True\n",
    "    print(\"Proceed\")\n",
    "else:\n",
    "    print(\"Discard\")"
   ]
  },
  {
   "cell_type": "code",
   "execution_count": 19,
   "metadata": {},
   "outputs": [
    {
     "name": "stdout",
     "output_type": "stream",
     "text": [
      "Proceed\n"
     ]
    }
   ],
   "source": [
    "# if you want to execute if block when condition if false (zero value)\n",
    "\n",
    "check = False\n",
    "\n",
    "if not check: # if check == False:\n",
    "    print(\"Proceed\")\n",
    "else:\n",
    "    print(\"Discard\")"
   ]
  },
  {
   "cell_type": "code",
   "execution_count": null,
   "metadata": {},
   "outputs": [],
   "source": []
  }
 ],
 "metadata": {
  "kernelspec": {
   "display_name": "Python 3",
   "language": "python",
   "name": "python3"
  },
  "language_info": {
   "codemirror_mode": {
    "name": "ipython",
    "version": 3
   },
   "file_extension": ".py",
   "mimetype": "text/x-python",
   "name": "python",
   "nbconvert_exporter": "python",
   "pygments_lexer": "ipython3",
   "version": "3.11.5"
  }
 },
 "nbformat": 4,
 "nbformat_minor": 2
}
