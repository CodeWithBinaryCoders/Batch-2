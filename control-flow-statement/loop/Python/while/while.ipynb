{
 "cells": [
  {
   "cell_type": "code",
   "execution_count": 1,
   "metadata": {},
   "outputs": [
    {
     "name": "stdout",
     "output_type": "stream",
     "text": [
      "Binary Learn\n",
      "Binary Learn\n"
     ]
    }
   ],
   "source": [
    "count = 1 # initialize count by 1\n",
    "\n",
    "while count < 3: # parenthesis are optional in python\n",
    "    print(\"Binary Learn\")\n",
    "\n",
    "    count += 1 #increase count by 1 at each iteration"
   ]
  },
  {
   "cell_type": "code",
   "execution_count": 3,
   "metadata": {},
   "outputs": [
    {
     "name": "stdout",
     "output_type": "stream",
     "text": [
      "Binary Learn\n",
      "Binary Learn\n",
      "Binary Learn\n",
      "The value of count is 4\n"
     ]
    }
   ],
   "source": [
    "count = 1\n",
    "\n",
    "while count <= 3:\n",
    "    print(\"Binary Learn\")\n",
    "\n",
    "    count += 1\n",
    "\n",
    "# print(\"The value of count is\", count)\n",
    "print(f\"The value of count is {count}\")"
   ]
  }
 ],
 "metadata": {
  "kernelspec": {
   "display_name": "Python 3",
   "language": "python",
   "name": "python3"
  },
  "language_info": {
   "codemirror_mode": {
    "name": "ipython",
    "version": 3
   },
   "file_extension": ".py",
   "mimetype": "text/x-python",
   "name": "python",
   "nbconvert_exporter": "python",
   "pygments_lexer": "ipython3",
   "version": "3.11.5"
  }
 },
 "nbformat": 4,
 "nbformat_minor": 2
}
