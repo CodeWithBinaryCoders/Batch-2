{
 "cells": [
  {
   "cell_type": "code",
   "execution_count": 10,
   "metadata": {},
   "outputs": [],
   "source": [
    "def best_sol_hanoi(disk_count, src, dest, temp):\n",
    "    if 1 == disk_count:\n",
    "        print(f\"Move disk {disk_count} from {src} to {dest}\")\n",
    "        return\n",
    "    \n",
    "    best_sol_hanoi(disk_count - 1, src, temp, dest)\n",
    "    print(f\"Move disk {disk_count} from {src} to {dest}\")\n",
    "    best_sol_hanoi(disk_count - 1, temp, dest, src)"
   ]
  },
  {
   "cell_type": "code",
   "execution_count": 12,
   "metadata": {},
   "outputs": [
    {
     "name": "stdout",
     "output_type": "stream",
     "text": [
      "Move disk 1 from A to C\n",
      "Move disk 2 from A to B\n",
      "Move disk 1 from C to B\n"
     ]
    }
   ],
   "source": [
    "n = int(input(\"Enter the no. of disk(s) : \")) # 2\n",
    "best_sol_hanoi(n, 'A', 'B', 'C')"
   ]
  }
 ],
 "metadata": {
  "kernelspec": {
   "display_name": "iisc",
   "language": "python",
   "name": "python3"
  },
  "language_info": {
   "codemirror_mode": {
    "name": "ipython",
    "version": 3
   },
   "file_extension": ".py",
   "mimetype": "text/x-python",
   "name": "python",
   "nbconvert_exporter": "python",
   "pygments_lexer": "ipython3",
   "version": "3.11.5"
  }
 },
 "nbformat": 4,
 "nbformat_minor": 2
}
